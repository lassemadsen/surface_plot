{
  "cells": [
    {
      "cell_type": "code",
      "execution_count": null,
      "metadata": {
        "collapsed": false
      },
      "outputs": [],
      "source": [
        "%matplotlib inline"
      ]
    },
    {
      "cell_type": "markdown",
      "metadata": {},
      "source": [
        "\n# Tutorial 01: Simple plot of cortical surface data\nExample script to plot simple data to cortical surface\n"
      ]
    },
    {
      "cell_type": "code",
      "execution_count": null,
      "metadata": {
        "collapsed": false
      },
      "outputs": [],
      "source": [
        "from surface_plot import plot_surface\nimport numpy as np\n\noutdir = 'data/simple_plot/test_figures'\nclobber = False\n\n# Load data\ndata_left = np.loadtxt('https://www.dropbox.com/s/lezvpw14iw13d9r/data_left.mean?dl=1', skiprows=1)\ndata_right = np.loadtxt('https://www.dropbox.com/s/lm3e6ykjm7rhdi5/data_right.mean?dl=1', skiprows=1)\n\ndata = {'left': data_left,\n        'right': data_right}\n\n# Plot mean data - automatic limits\noutput = f'{outdir}/simple_autolim.png'\nplot_surface.plot_surface(data, output, clobber=clobber)\n\n# Plot mean data - predetermined limits\noutput = f'{outdir}/simple_withlim.png'\nplot_surface.plot_surface(data, output, vlim=[0, 2.5], cbar_loc='bottom', clobber=clobber)\n\n# Plot mean data - predetermined limits with title\noutput = f'{outdir}/simple_withlim_title.png'\nplot_surface.plot_surface(data, output, vlim=[0.5, 3], cbar_loc='bottom', title='PiB uptake', cbar_title='Mean SUVR', clobber=clobber)"
      ]
    }
  ],
  "metadata": {
    "kernelspec": {
      "display_name": "Python 3",
      "language": "python",
      "name": "python3"
    },
    "language_info": {
      "codemirror_mode": {
        "name": "ipython",
        "version": 3
      },
      "file_extension": ".py",
      "mimetype": "text/x-python",
      "name": "python",
      "nbconvert_exporter": "python",
      "pygments_lexer": "ipython3",
      "version": "3.7.10"
    }
  },
  "nbformat": 4,
  "nbformat_minor": 0
}