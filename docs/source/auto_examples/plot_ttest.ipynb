{
  "cells": [
    {
      "cell_type": "markdown",
      "metadata": {},
      "source": [
        "\n# Tutorial 03: Plot of mean and statistical data (t-test)\nExample script to plot both mean data and statistics, e.g. from paired or unpaied t-test with two groups.\n"
      ]
    },
    {
      "cell_type": "code",
      "execution_count": null,
      "metadata": {
        "collapsed": false
      },
      "outputs": [],
      "source": [
        "from surface_plot import plot_mean_stats\nimport numpy as np\n\noutdir = 'data/paired_ttest/test_figures'\nclobber = False\n\n# Load data\npval_left = np.loadtxt('https://www.dropbox.com/s/5g3sopvolf0qnot/left.pval?dl=1', skiprows=1)\npval_right = np.loadtxt('https://www.dropbox.com/s/282xfgqk4wx2pka/right.pval?dl=1', skiprows=1)\ntval_left = np.loadtxt('https://www.dropbox.com/s/ku6wdm4nd8690rg/left.tval?dl=1', skiprows=1)\ntval_right = np.loadtxt('https://www.dropbox.com/s/oci987u02nwtgxf/right.tval?dl=1', skiprows=1)\n\nmean1_left = np.loadtxt('https://www.dropbox.com/s/htx0q2lm87nnlf1/baseline_left.mean?dl=1', skiprows=1)\nmean1_right = np.loadtxt('https://www.dropbox.com/s/mbe1a3v8vtgrlsx/baseline_right.mean?dl=1', skiprows=1)\nmean2_left = np.loadtxt('https://www.dropbox.com/s/f71pewt2748dag7/followup_left.mean?dl=1', skiprows=1)\nmean2_right = np.loadtxt('https://www.dropbox.com/s/8r8jfkqz9rxjrr3/followup_right.mean?dl=1', skiprows=1)\n\ntval = {'left': tval_left,\n        'right': tval_right}\n\npval = {'left': pval_left,\n        'right': pval_right}\n\nmean1 = {'left': mean1_left,\n            'right': mean1_right}\n\nmean2 = {'left': mean2_left,\n            'right': mean2_right}\n\n# Define statistical threshold\np_threshold = 0.01\n\n# P value\noutput = f'{outdir}/ttest_pval_p{p_threshold}.pdf'\nplot_mean_stats.plot_mean_stats(mean1, mean2, tval, output, pval=pval, vlim_mean=[0, 4], p_threshold=p_threshold, cb_mean_title='Mean SUVR', mean_titles=['Baseline', 'Follow-up'], stats_titles=['Increase', 'Decrease'], clobber=clobber)\n\noutput = f'{outdir}/ttest_pval_notitle_p{p_threshold}.pdf'\nplot_mean_stats.plot_mean_stats(mean1, mean2, tval, output, pval=pval, vlim_mean=[0, 4], p_threshold=p_threshold, clobber=clobber)\n\n# T value\noutput = f'{outdir}/ttest_tval_p{p_threshold}.pdf'\nplot_mean_stats.plot_mean_stats(mean1, mean2, tval, output, vlim_mean=[0, 4], pval=pval, p_threshold=p_threshold, cb_mean_title='Mean SUVR', mean_titles=['Baseline', 'Follow-up'], stats_titles=['Change'], plot_tvalue=True, clobber=clobber)\n\noutput = f'{outdir}/ttest_tval_notitle_p{p_threshold}.pdf'\nplot_mean_stats.plot_mean_stats(mean1, mean2, tval, output, pval=pval, vlim_mean=[0, 4], p_threshold=p_threshold, plot_tvalue=True, clobber=clobber)"
      ]
    }
  ],
  "metadata": {
    "kernelspec": {
      "display_name": "Python 3",
      "language": "python",
      "name": "python3"
    },
    "language_info": {
      "codemirror_mode": {
        "name": "ipython",
        "version": 3
      },
      "file_extension": ".py",
      "mimetype": "text/x-python",
      "name": "python",
      "nbconvert_exporter": "python",
      "pygments_lexer": "ipython3",
      "version": "3.9.20"
    }
  },
  "nbformat": 4,
  "nbformat_minor": 0
}