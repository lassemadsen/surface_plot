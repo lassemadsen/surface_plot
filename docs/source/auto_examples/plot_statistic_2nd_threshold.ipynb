{
  "cells": [
    {
      "cell_type": "code",
      "execution_count": null,
      "metadata": {
        "collapsed": false
      },
      "outputs": [],
      "source": [
        "%matplotlib inline"
      ]
    },
    {
      "cell_type": "markdown",
      "metadata": {},
      "source": [
        "\n# Tutorial 04: Plot of statistical maps with two thresholds\nExample script to plot statistical maps with two different statistical thresholds.\nThe first threshold is plottet as normal, the second threshold is outlined by a white line.\n\nThe second_level data is defined by a mask containing e.g. surviving clusters (1's)\n\nNote: the cortical surface template is needed to segment the clusters. \n"
      ]
    },
    {
      "cell_type": "code",
      "execution_count": null,
      "metadata": {
        "collapsed": false
      },
      "outputs": [],
      "source": [
        "from surface_plot import plot_stats\nimport numpy as np\n\noutdir = 'data/second_level/test_figures'\nclobber = True\nmask = {'left': [], 'right': []}\n\n# Load data\ntval_left = np.loadtxt('https://www.dropbox.com/s/5ek63zf5l2iwd8f/tval_left.csv?dl=1')\ntval_right = np.loadtxt('https://www.dropbox.com/s/def320uevw5ivsb/tval_right.csv?dl=1')\nsecond_level_left = np.loadtxt('https://www.dropbox.com/s/y93z65g2jx0zs2x/second_level_left.csv?dl=1')\nsecond_level_right = np.loadtxt('https://www.dropbox.com/s/wgp0j0gp35oe41g/second_level_right.csv?dl=1')\n\ntval = {'left': tval_left,\n        'right': tval_right}\n\nsecond_level = {'left': second_level_left,\n                'right': second_level_right}\n\nt_lim = [-5, 5]\n\nmask['left'] = ~np.isnan(tval['left'])\nmask['right'] = ~np.isnan(tval['right'])\n\noutput = f'{outdir}/second_level.png'\n\nplot_stats.plot_tval(tval, output, mask=mask, t_lim=t_lim, second_threshold_mask=second_level, expand_edge=True, clobber=clobber)"
      ]
    }
  ],
  "metadata": {
    "kernelspec": {
      "display_name": "Python 3",
      "language": "python",
      "name": "python3"
    },
    "language_info": {
      "codemirror_mode": {
        "name": "ipython",
        "version": 3
      },
      "file_extension": ".py",
      "mimetype": "text/x-python",
      "name": "python",
      "nbconvert_exporter": "python",
      "pygments_lexer": "ipython3",
      "version": "3.7.10"
    }
  },
  "nbformat": 4,
  "nbformat_minor": 0
}