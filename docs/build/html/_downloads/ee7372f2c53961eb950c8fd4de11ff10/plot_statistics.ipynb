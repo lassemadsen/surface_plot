{
  "cells": [
    {
      "cell_type": "code",
      "execution_count": null,
      "metadata": {
        "collapsed": false
      },
      "outputs": [],
      "source": [
        "%matplotlib inline"
      ]
    },
    {
      "cell_type": "markdown",
      "metadata": {},
      "source": [
        "\n# Tutorial 02: Plot of statistical data\nExample script to plot statistical maps, e.g. from correlation analysis\n"
      ]
    },
    {
      "cell_type": "code",
      "execution_count": null,
      "metadata": {
        "collapsed": false
      },
      "outputs": [],
      "source": [
        "from surface_plot import plot_stats\nimport numpy as np\n\noutdir = 'data/correlation/test_figures'\nclobber = False\n\n# Load data\npval_left = np.loadtxt('data/correlation/left.pval', skiprows=1)\npval_right = np.loadtxt('data/correlation/right.pval', skiprows=1)\ntval_left = np.loadtxt('data/correlation/left.tval', skiprows=1)\ntval_right = np.loadtxt('data/correlation/right.tval', skiprows=1)\n\ntval = {'left': tval_left,\n        'right': tval_right}\n\npval = {'left': pval_left,\n        'right': pval_right}\n\n# Define degrees of freedom (specific to the example data)\ndf = 19\n\n# Define statistic threshold\np_threshold = 0.01\n\n# --- Plot p-values ---\nfor cbar_loc in ['left', 'bottom', None]:\n    # Plot two-tailed pval (i.e. without knowing wheter its is right- or left tailed)\n    output = f'{outdir}/pval_twotailed_cbar_{cbar_loc}_p{p_threshold}.png'\n    plot_stats.plot_pval(pval, output, p_threshold=p_threshold, cbar_loc=cbar_loc, clobber=clobber)\n\n    # Plot seperate one-tailed pval (i.e. one plot with right tail (positive) and one plot with left tail (negative)) \n    output = f'{outdir}/pval_onetailed_cbar_{cbar_loc}_p{p_threshold}.png'\n    plot_stats.plot_pval(pval, output, tval=tval, p_threshold=p_threshold, cbar_loc=cbar_loc, clobber=clobber)\n\n# --- Plot t-values ---\nt_threshold = 2.5\np_threshold = 0.01\ncbar_loc = 'left'\n\n# Plot t-values with automatic limits\noutput = f'{outdir}/tval_autolim_cbar_{cbar_loc}_t{t_threshold}.png'\nplot_stats.plot_tval(tval, output, t_threshold=t_threshold, cbar_loc=cbar_loc, clobber=clobber)\n\n# Plot t-values with predetermined limits\nt_lim = [-3, 3]\noutput = f'{outdir}/tval_withlim_cbar_{cbar_loc}_t{t_threshold}.png'\nplot_stats.plot_tval(tval, output, t_lim=t_lim, t_threshold=0, cbar_loc=cbar_loc, clobber=clobber)\n\n# Plot t-values with p_threshold and calculated p-values\noutput = f'{outdir}/tval_withpval_cbar_{cbar_loc}_p{p_threshold}.png'\nplot_stats.plot_tval(tval, output, p_threshold=p_threshold, pval=pval, cbar_loc=cbar_loc, clobber=clobber)\n\n# Plot t-values with p_threshold and df, two-tailed\noutput = f'{outdir}/tval_withdf_twotailed_cbar_{cbar_loc}_p{p_threshold}.png'\nplot_stats.plot_tval(tval, output, p_threshold=p_threshold, df=df, cbar_loc=cbar_loc, clobber=clobber)\n\n# Plot t-values with p_threshold and df, one-tailed\noutput = f'{outdir}/tval_withdf_onetailed_cbar_{cbar_loc}_p{p_threshold}.png'\nplot_stats.plot_tval(tval, output, p_threshold=p_threshold, df=df, two_tailed=False, cbar_loc=cbar_loc, clobber=clobber)"
      ]
    }
  ],
  "metadata": {
    "kernelspec": {
      "display_name": "Python 3",
      "language": "python",
      "name": "python3"
    },
    "language_info": {
      "codemirror_mode": {
        "name": "ipython",
        "version": 3
      },
      "file_extension": ".py",
      "mimetype": "text/x-python",
      "name": "python",
      "nbconvert_exporter": "python",
      "pygments_lexer": "ipython3",
      "version": "3.7.10"
    }
  },
  "nbformat": 4,
  "nbformat_minor": 0
}